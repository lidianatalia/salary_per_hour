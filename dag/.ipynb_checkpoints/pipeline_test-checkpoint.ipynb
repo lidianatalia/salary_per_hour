{
 "cells": [
  {
   "cell_type": "markdown",
   "metadata": {},
   "source": [
    "https://pypi.org/project/pymysql-pooling/"
   ]
  },
  {
   "cell_type": "code",
   "execution_count": 6,
   "metadata": {
    "scrolled": true
   },
   "outputs": [
    {
     "name": "stdout",
     "output_type": "stream",
     "text": [
      "Extract csv with dask: 0.00374 sec\n",
      "Remove duplicate: 0.00295 sec\n",
      "DONE!!! Data Loaded 176 rows\n"
     ]
    }
   ],
   "source": [
    "import json\n",
    "import schema\n",
    "import numpy as np\n",
    "import pandas as pd\n",
    "import pandas_schema\n",
    "import os\n",
    "import time\n",
    "\n",
    "from helper.utils import check_decimal, check_int,check_date,check_timeformat\n",
    "from pandas_schema.validation import CustomElementValidation\n",
    "from pandas_schema import Column\n",
    "from dask import dataframe as dd\n",
    "from database.base_operation import DBOperations\n",
    "\n",
    "class Pipeline():\n",
    "    def __init__(self):\n",
    "        self.data = None\n",
    "        pass\n",
    "    \n",
    "    def read_all_data(self, finput) -> dd:\n",
    "        \"\"\"\n",
    "        Read csv file and return data based on date_filter\n",
    "        \"\"\"\n",
    "        start = time.time()\n",
    "        self.data = dd.read_csv(finput)\n",
    "        end = time.time()\n",
    "        print(\"Extract csv with dask:\", round((end - start),5), \"sec\")\n",
    "        \n",
    "    def read_data_based_key(self, finput=None, key_filter=None, date_filter=None) -> dd:\n",
    "        \"\"\"\n",
    "        Read csv file and return data based on date_filter\n",
    "        \"\"\"\n",
    "        start = time.time()\n",
    "        self.data = dd.read_csv(finput)\n",
    "        if date_filter:\n",
    "            self.data = self.data[self.data[key_filter] == date_filter]\n",
    "        else:\n",
    "            raise ValueError(\"date filter cannot be null\")\n",
    "        end = time.time()\n",
    "        print(\"Extract csv with dask:\", round((end - start),5), \"sec\")\n",
    "    \n",
    "    def remove_duplicate(self, keys=None) -> dd:\n",
    "        \"\"\"\n",
    "        Remove duplicate record based on key(s)\n",
    "        \"\"\"\n",
    "        start = time.time()\n",
    "        \n",
    "        if len(keys) > 1:\n",
    "            s_key = '_'.join(keys)\n",
    "            self.data[s_key] = self.data[keys[0]].astype(str) + \"_\" + self.data[keys[1]].astype(str)\n",
    "            self.data = self.data.drop_duplicates(subset='%s_%s' %(keys[0], keys[1]))\n",
    "            self.data = self.data.drop('%s_%s' %(keys[0], keys[1]), axis=1)\n",
    "        elif len(keys) == 1:\n",
    "            self.data = self.data.drop_duplicates(subset=keys)\n",
    "            end = time.time()\n",
    "                \n",
    "        end = time.time()\n",
    "        print(\"Remove duplicate:\", round((end - start),5), \"sec\")\n",
    "        self.data = self.data.compute()\n",
    "    \n",
    "    def __get_schema(self, fname):\n",
    "        decimal_validation = CustomElementValidation(lambda d: check_decimal(d), \"is not decimal\")\n",
    "        int_validation = CustomElementValidation(lambda i: check_int(i), \"is not integer\")\n",
    "        date_validation = CustomElementValidation(lambda i: check_date(i), \"is incorrect date string format. It should be YYYY-MM-DD\")\n",
    "        time_validation = CustomElementValidation(lambda t: check_timeformat(t), \"is not time\")\n",
    "        null_validation = CustomElementValidation(lambda d: d is not np.nan, \"this field cannot be null\")\n",
    "        \n",
    "#         this_directory = os.path.dirname(__file__)\n",
    "#         # __file__ is the absolute path to the current python file.\n",
    "#         with open(os.path.join(this_directory, f\"schema/{table}.json\")) as fin:\n",
    "        columns = list()            \n",
    "        with open(f\"schema/{fname}.json\",'r') as fin:\n",
    "            for field in json.load(fin):\n",
    "                validations = list()\n",
    "                if field['type'] == 'INT':\n",
    "                    validations.append(int_validation)\n",
    "                elif field['type'] == 'DATE':\n",
    "                    validations.append(date_validation)\n",
    "                elif field['type'] == 'DECIMAL':\n",
    "                    validations.append(decimal_validation)\n",
    "                elif field['type'] == 'TIME':\n",
    "                    validations.append(time_validation)\n",
    "                    \n",
    "                if field['mode'] == 'REQUIRED':\n",
    "                    validations.append(null_validation)       \n",
    "                    \n",
    "                columns.append(Column(field['name'], validations))\n",
    "        return(pandas_schema.Schema(columns))\n",
    "    \n",
    "    def do_validation(self, fname=None):\n",
    "        schema = self.__get_schema(fname)        \n",
    "        errors = schema.validate(self.data)\n",
    "        errors_index_rows = [e.row for e in errors if e]\n",
    "        message = ' '.join\n",
    "        if errors:\n",
    "            raise ValueError (\"\\n\" + '\\n'.join([str(e) for e in errors]) )\n",
    "        \n",
    "\n",
    "conn = DBConn()\n",
    "db_opr = DBOperations(conn)\n",
    "           \n",
    "        \n",
    "# PTimesheet = Pipeline()\n",
    "# # PTimesheet.read_data_based_key(finput = '../data/timesheets (copy).csv', key_filter='date', date_filter = '2019-08-21')\n",
    "# PTimesheet.read_all_data(finput = '../data/timesheets (copy).csv')\n",
    "# PTimesheet.remove_duplicate(keys=['employee_id','date'])\n",
    "# if PTimesheet.data.empty:\n",
    "#     print(\"No data found...\")\n",
    "# else:\n",
    "#     PTimesheet.do_validation(fname='timesheet')\n",
    "#     data = PTimesheet.data.where(pd.notnull(PTimesheet.data),None)\n",
    "#     db_opr.insert_timesheet_record(list(data.itertuples(index=False, name=None)))\n",
    "#     print(f\"DONE!!! Data Loaded {len(data.index)} rows\")\n",
    "\n",
    "    \n",
    "PEmployee = Pipeline()\n",
    "# PEmployee.read_data_based_key(finput = '../data/employees.csv', key_filter='date', date_filter = '2020-12-07')\n",
    "PEmployee.read_all_data(finput = '../data/employees.csv')\n",
    "PEmployee.remove_duplicate(keys=['employe_id'])\n",
    "if PEmployee.data.empty:\n",
    "    print(\"No data found...\")\n",
    "else:\n",
    "    PEmployee.do_validation(fname='employee')\n",
    "    data = PEmployee.data.where(pd.notnull(PEmployee.data),None)\n",
    "    db_opr.insert_employees_record(list(data.itertuples(index=False, name=None)))\n",
    "    print(f\"DONE!!! Data Loaded {len(data.index)} rows\")\n"
   ]
  },
  {
   "cell_type": "code",
   "execution_count": 119,
   "metadata": {},
   "outputs": [],
   "source": [
    "df = pd.read_csv('../data/employees.csv')"
   ]
  },
  {
   "cell_type": "code",
   "execution_count": 120,
   "metadata": {},
   "outputs": [],
   "source": [
    "df = df.drop_duplicates(subset='employe_id',keep='last')"
   ]
  },
  {
   "cell_type": "code",
   "execution_count": 121,
   "metadata": {},
   "outputs": [],
   "source": [
    "ts = pd.read_csv('../data/timesheets (copy).csv')"
   ]
  },
  {
   "cell_type": "code",
   "execution_count": 122,
   "metadata": {},
   "outputs": [],
   "source": [
    "# ts.dropna(subset=['checkin','checkout'], inplace=True)"
   ]
  },
  {
   "cell_type": "code",
   "execution_count": 123,
   "metadata": {},
   "outputs": [],
   "source": [
    "ts = ts.drop_duplicates(subset=['employee_id','date'],keep='first')"
   ]
  },
  {
   "cell_type": "code",
   "execution_count": 604,
   "metadata": {},
   "outputs": [],
   "source": [
    "new = ts.merge(df, how='inner', left_on='employee_id', right_on='employe_id')"
   ]
  },
  {
   "cell_type": "code",
   "execution_count": 605,
   "metadata": {
    "scrolled": true
   },
   "outputs": [],
   "source": [
    "new['date'] = pd.to_datetime(new['date'], errors='coerce').dt.date\n",
    "new['year'] = pd.to_datetime(new['date'], errors='coerce').dt.year\n",
    "new['month'] = pd.to_datetime(new['date'], errors='coerce').dt.month"
   ]
  },
  {
   "cell_type": "code",
   "execution_count": 606,
   "metadata": {},
   "outputs": [],
   "source": [
    "new['checkin_hour'] = pd.to_datetime(new['checkin'], errors='ignore').dt.hour\n",
    "new['checkout_hour'] = pd.to_datetime(new['checkout'], errors='ignore').dt.hour"
   ]
  },
  {
   "cell_type": "code",
   "execution_count": 607,
   "metadata": {},
   "outputs": [],
   "source": [
    "new['resign_date'] = pd.to_datetime(new['resign_date'], errors='coerce').dt.date\n",
    "new['join_date'] = pd.to_datetime(new['join_date'], errors='coerce').dt.date"
   ]
  },
  {
   "cell_type": "code",
   "execution_count": 608,
   "metadata": {
    "scrolled": true
   },
   "outputs": [],
   "source": [
    "new['day_name'] = pd.to_datetime(new['date'], errors='coerce').dt.day_name()\n",
    "# new['checkout_hour'] = pd.to_timedelta(new['checkout'].astype(str))"
   ]
  },
  {
   "cell_type": "markdown",
   "metadata": {},
   "source": [
    "# ANALYSIS"
   ]
  },
  {
   "cell_type": "markdown",
   "metadata": {},
   "source": [
    "### Missing Working Hour Value"
   ]
  },
  {
   "cell_type": "markdown",
   "metadata": {},
   "source": [
    "#### Median Working Hour"
   ]
  },
  {
   "cell_type": "code",
   "execution_count": 609,
   "metadata": {},
   "outputs": [],
   "source": [
    "new['working_hour'] = round(pd.to_datetime(new.checkout).sub(pd.to_datetime(new.checkin)).dt.total_seconds().div(3600),0)"
   ]
  },
  {
   "cell_type": "code",
   "execution_count": 705,
   "metadata": {},
   "outputs": [
    {
     "data": {
      "text/plain": [
       "8.316494379633813"
      ]
     },
     "execution_count": 705,
     "metadata": {},
     "output_type": "execute_result"
    }
   ],
   "source": [
    "new.working_hour.mean()"
   ]
  },
  {
   "cell_type": "code",
   "execution_count": 706,
   "metadata": {},
   "outputs": [
    {
     "data": {
      "text/html": [
       "<div>\n",
       "<style scoped>\n",
       "    .dataframe tbody tr th:only-of-type {\n",
       "        vertical-align: middle;\n",
       "    }\n",
       "\n",
       "    .dataframe tbody tr th {\n",
       "        vertical-align: top;\n",
       "    }\n",
       "\n",
       "    .dataframe thead th {\n",
       "        text-align: right;\n",
       "    }\n",
       "</style>\n",
       "<table border=\"1\" class=\"dataframe\">\n",
       "  <thead>\n",
       "    <tr style=\"text-align: right;\">\n",
       "      <th></th>\n",
       "      <th>checkin_hour</th>\n",
       "      <th>checkout_hour</th>\n",
       "      <th>working_hour</th>\n",
       "    </tr>\n",
       "  </thead>\n",
       "  <tbody>\n",
       "    <tr>\n",
       "      <th>count</th>\n",
       "      <td>38983.000000</td>\n",
       "      <td>38358.000000</td>\n",
       "      <td>37631.000000</td>\n",
       "    </tr>\n",
       "    <tr>\n",
       "      <th>mean</th>\n",
       "      <td>9.566272</td>\n",
       "      <td>17.895120</td>\n",
       "      <td>8.316494</td>\n",
       "    </tr>\n",
       "    <tr>\n",
       "      <th>std</th>\n",
       "      <td>2.731764</td>\n",
       "      <td>2.954395</td>\n",
       "      <td>2.309500</td>\n",
       "    </tr>\n",
       "    <tr>\n",
       "      <th>min</th>\n",
       "      <td>0.000000</td>\n",
       "      <td>0.000000</td>\n",
       "      <td>-22.000000</td>\n",
       "    </tr>\n",
       "    <tr>\n",
       "      <th>25%</th>\n",
       "      <td>8.000000</td>\n",
       "      <td>17.000000</td>\n",
       "      <td>7.000000</td>\n",
       "    </tr>\n",
       "    <tr>\n",
       "      <th>50%</th>\n",
       "      <td>9.000000</td>\n",
       "      <td>18.000000</td>\n",
       "      <td>9.000000</td>\n",
       "    </tr>\n",
       "    <tr>\n",
       "      <th>75%</th>\n",
       "      <td>12.000000</td>\n",
       "      <td>20.000000</td>\n",
       "      <td>9.000000</td>\n",
       "    </tr>\n",
       "    <tr>\n",
       "      <th>max</th>\n",
       "      <td>23.000000</td>\n",
       "      <td>23.000000</td>\n",
       "      <td>20.000000</td>\n",
       "    </tr>\n",
       "  </tbody>\n",
       "</table>\n",
       "</div>"
      ],
      "text/plain": [
       "       checkin_hour  checkout_hour  working_hour\n",
       "count  38983.000000   38358.000000  37631.000000\n",
       "mean       9.566272      17.895120      8.316494\n",
       "std        2.731764       2.954395      2.309500\n",
       "min        0.000000       0.000000    -22.000000\n",
       "25%        8.000000      17.000000      7.000000\n",
       "50%        9.000000      18.000000      9.000000\n",
       "75%       12.000000      20.000000      9.000000\n",
       "max       23.000000      23.000000     20.000000"
      ]
     },
     "execution_count": 706,
     "metadata": {},
     "output_type": "execute_result"
    }
   ],
   "source": [
    "new[['checkin_hour','checkout_hour','working_hour']].describe()"
   ]
  },
  {
   "cell_type": "markdown",
   "metadata": {},
   "source": [
    "#### Median Working Hour Per Employee"
   ]
  },
  {
   "cell_type": "code",
   "execution_count": 707,
   "metadata": {
    "scrolled": false
   },
   "outputs": [
    {
     "name": "stderr",
     "output_type": "stream",
     "text": [
      "/home/lidia/.pyenv/versions/3.7.4/envs/insurance/lib/python3.7/site-packages/ipykernel_launcher.py:1: FutureWarning: Indexing with multiple keys (implicitly converted to a tuple of keys) will be deprecated, use a list instead.\n",
      "  \"\"\"Entry point for launching an IPython kernel.\n"
     ]
    }
   ],
   "source": [
    "mean_work_hour = new.groupby(by=['employee_id'])['salary','working_hour'].mean()"
   ]
  },
  {
   "cell_type": "code",
   "execution_count": 710,
   "metadata": {},
   "outputs": [
    {
     "data": {
      "text/html": [
       "<div>\n",
       "<style scoped>\n",
       "    .dataframe tbody tr th:only-of-type {\n",
       "        vertical-align: middle;\n",
       "    }\n",
       "\n",
       "    .dataframe tbody tr th {\n",
       "        vertical-align: top;\n",
       "    }\n",
       "\n",
       "    .dataframe thead th {\n",
       "        text-align: right;\n",
       "    }\n",
       "</style>\n",
       "<table border=\"1\" class=\"dataframe\">\n",
       "  <thead>\n",
       "    <tr style=\"text-align: right;\">\n",
       "      <th></th>\n",
       "      <th>salary</th>\n",
       "      <th>working_hour</th>\n",
       "    </tr>\n",
       "    <tr>\n",
       "      <th>employee_id</th>\n",
       "      <th></th>\n",
       "      <th></th>\n",
       "    </tr>\n",
       "  </thead>\n",
       "  <tbody>\n",
       "    <tr>\n",
       "      <th>1</th>\n",
       "      <td>7500000</td>\n",
       "      <td>8.408451</td>\n",
       "    </tr>\n",
       "    <tr>\n",
       "      <th>7</th>\n",
       "      <td>7500000</td>\n",
       "      <td>10.000000</td>\n",
       "    </tr>\n",
       "    <tr>\n",
       "      <th>8</th>\n",
       "      <td>13000000</td>\n",
       "      <td>7.516667</td>\n",
       "    </tr>\n",
       "    <tr>\n",
       "      <th>9</th>\n",
       "      <td>13500000</td>\n",
       "      <td>9.421053</td>\n",
       "    </tr>\n",
       "    <tr>\n",
       "      <th>10</th>\n",
       "      <td>9000000</td>\n",
       "      <td>9.417582</td>\n",
       "    </tr>\n",
       "    <tr>\n",
       "      <th>...</th>\n",
       "      <td>...</td>\n",
       "      <td>...</td>\n",
       "    </tr>\n",
       "    <tr>\n",
       "      <th>311335</th>\n",
       "      <td>13500000</td>\n",
       "      <td>9.040000</td>\n",
       "    </tr>\n",
       "    <tr>\n",
       "      <th>325787</th>\n",
       "      <td>12500000</td>\n",
       "      <td>9.875000</td>\n",
       "    </tr>\n",
       "    <tr>\n",
       "      <th>329501</th>\n",
       "      <td>13000000</td>\n",
       "      <td>9.000000</td>\n",
       "    </tr>\n",
       "    <tr>\n",
       "      <th>331374</th>\n",
       "      <td>6000000</td>\n",
       "      <td>7.000000</td>\n",
       "    </tr>\n",
       "    <tr>\n",
       "      <th>340184</th>\n",
       "      <td>11500000</td>\n",
       "      <td>2.000000</td>\n",
       "    </tr>\n",
       "  </tbody>\n",
       "</table>\n",
       "<p>170 rows × 2 columns</p>\n",
       "</div>"
      ],
      "text/plain": [
       "               salary  working_hour\n",
       "employee_id                        \n",
       "1             7500000      8.408451\n",
       "7             7500000     10.000000\n",
       "8            13000000      7.516667\n",
       "9            13500000      9.421053\n",
       "10            9000000      9.417582\n",
       "...               ...           ...\n",
       "311335       13500000      9.040000\n",
       "325787       12500000      9.875000\n",
       "329501       13000000      9.000000\n",
       "331374        6000000      7.000000\n",
       "340184       11500000      2.000000\n",
       "\n",
       "[170 rows x 2 columns]"
      ]
     },
     "execution_count": 710,
     "metadata": {},
     "output_type": "execute_result"
    }
   ],
   "source": [
    "mean_work_hour"
   ]
  },
  {
   "cell_type": "code",
   "execution_count": 711,
   "metadata": {},
   "outputs": [
    {
     "data": {
      "text/html": [
       "<div>\n",
       "<style scoped>\n",
       "    .dataframe tbody tr th:only-of-type {\n",
       "        vertical-align: middle;\n",
       "    }\n",
       "\n",
       "    .dataframe tbody tr th {\n",
       "        vertical-align: top;\n",
       "    }\n",
       "\n",
       "    .dataframe thead th {\n",
       "        text-align: right;\n",
       "    }\n",
       "</style>\n",
       "<table border=\"1\" class=\"dataframe\">\n",
       "  <thead>\n",
       "    <tr style=\"text-align: right;\">\n",
       "      <th></th>\n",
       "      <th>timesheet_id</th>\n",
       "      <th>employee_id</th>\n",
       "      <th>date</th>\n",
       "      <th>checkin</th>\n",
       "      <th>checkout</th>\n",
       "      <th>employe_id</th>\n",
       "      <th>branch_id</th>\n",
       "      <th>salary</th>\n",
       "      <th>join_date</th>\n",
       "      <th>resign_date</th>\n",
       "      <th>year</th>\n",
       "      <th>month</th>\n",
       "      <th>checkin_hour</th>\n",
       "      <th>checkout_hour</th>\n",
       "      <th>day_name</th>\n",
       "      <th>working_hour</th>\n",
       "    </tr>\n",
       "  </thead>\n",
       "  <tbody>\n",
       "    <tr>\n",
       "      <th>39705</th>\n",
       "      <td>69972572</td>\n",
       "      <td>340184</td>\n",
       "      <td>2020-12-18</td>\n",
       "      <td>08:00:00</td>\n",
       "      <td>16:00:00</td>\n",
       "      <td>340184</td>\n",
       "      <td>1</td>\n",
       "      <td>11500000</td>\n",
       "      <td>2020-12-18</td>\n",
       "      <td>NaT</td>\n",
       "      <td>2020</td>\n",
       "      <td>12</td>\n",
       "      <td>8.0</td>\n",
       "      <td>16.0</td>\n",
       "      <td>Friday</td>\n",
       "      <td>8.0</td>\n",
       "    </tr>\n",
       "    <tr>\n",
       "      <th>39706</th>\n",
       "      <td>70041570</td>\n",
       "      <td>340184</td>\n",
       "      <td>2020-12-19</td>\n",
       "      <td>07:51:03</td>\n",
       "      <td>16:04:12</td>\n",
       "      <td>340184</td>\n",
       "      <td>1</td>\n",
       "      <td>11500000</td>\n",
       "      <td>2020-12-18</td>\n",
       "      <td>NaT</td>\n",
       "      <td>2020</td>\n",
       "      <td>12</td>\n",
       "      <td>7.0</td>\n",
       "      <td>16.0</td>\n",
       "      <td>Saturday</td>\n",
       "      <td>8.0</td>\n",
       "    </tr>\n",
       "    <tr>\n",
       "      <th>39707</th>\n",
       "      <td>70049798</td>\n",
       "      <td>340184</td>\n",
       "      <td>2020-12-20</td>\n",
       "      <td>07:51:45</td>\n",
       "      <td>16:03:28</td>\n",
       "      <td>340184</td>\n",
       "      <td>1</td>\n",
       "      <td>11500000</td>\n",
       "      <td>2020-12-18</td>\n",
       "      <td>NaT</td>\n",
       "      <td>2020</td>\n",
       "      <td>12</td>\n",
       "      <td>7.0</td>\n",
       "      <td>16.0</td>\n",
       "      <td>Sunday</td>\n",
       "      <td>8.0</td>\n",
       "    </tr>\n",
       "    <tr>\n",
       "      <th>39708</th>\n",
       "      <td>70434887</td>\n",
       "      <td>340184</td>\n",
       "      <td>2020-12-21</td>\n",
       "      <td>19:56:50</td>\n",
       "      <td>NaN</td>\n",
       "      <td>340184</td>\n",
       "      <td>1</td>\n",
       "      <td>11500000</td>\n",
       "      <td>2020-12-18</td>\n",
       "      <td>NaT</td>\n",
       "      <td>2020</td>\n",
       "      <td>12</td>\n",
       "      <td>19.0</td>\n",
       "      <td>NaN</td>\n",
       "      <td>Monday</td>\n",
       "      <td>NaN</td>\n",
       "    </tr>\n",
       "    <tr>\n",
       "      <th>39709</th>\n",
       "      <td>70481740</td>\n",
       "      <td>340184</td>\n",
       "      <td>2020-12-22</td>\n",
       "      <td>15:45:27</td>\n",
       "      <td>00:05:46</td>\n",
       "      <td>340184</td>\n",
       "      <td>1</td>\n",
       "      <td>11500000</td>\n",
       "      <td>2020-12-18</td>\n",
       "      <td>NaT</td>\n",
       "      <td>2020</td>\n",
       "      <td>12</td>\n",
       "      <td>15.0</td>\n",
       "      <td>0.0</td>\n",
       "      <td>Tuesday</td>\n",
       "      <td>-16.0</td>\n",
       "    </tr>\n",
       "  </tbody>\n",
       "</table>\n",
       "</div>"
      ],
      "text/plain": [
       "       timesheet_id  employee_id        date   checkin  checkout  employe_id  \\\n",
       "39705      69972572       340184  2020-12-18  08:00:00  16:00:00      340184   \n",
       "39706      70041570       340184  2020-12-19  07:51:03  16:04:12      340184   \n",
       "39707      70049798       340184  2020-12-20  07:51:45  16:03:28      340184   \n",
       "39708      70434887       340184  2020-12-21  19:56:50       NaN      340184   \n",
       "39709      70481740       340184  2020-12-22  15:45:27  00:05:46      340184   \n",
       "\n",
       "       branch_id    salary   join_date resign_date  year  month  checkin_hour  \\\n",
       "39705          1  11500000  2020-12-18         NaT  2020     12           8.0   \n",
       "39706          1  11500000  2020-12-18         NaT  2020     12           7.0   \n",
       "39707          1  11500000  2020-12-18         NaT  2020     12           7.0   \n",
       "39708          1  11500000  2020-12-18         NaT  2020     12          19.0   \n",
       "39709          1  11500000  2020-12-18         NaT  2020     12          15.0   \n",
       "\n",
       "       checkout_hour  day_name  working_hour  \n",
       "39705           16.0    Friday           8.0  \n",
       "39706           16.0  Saturday           8.0  \n",
       "39707           16.0    Sunday           8.0  \n",
       "39708            NaN    Monday           NaN  \n",
       "39709            0.0   Tuesday         -16.0  "
      ]
     },
     "execution_count": 711,
     "metadata": {},
     "output_type": "execute_result"
    }
   ],
   "source": [
    "new[new.employe_id==340184]"
   ]
  },
  {
   "cell_type": "code",
   "execution_count": 704,
   "metadata": {},
   "outputs": [
    {
     "name": "stderr",
     "output_type": "stream",
     "text": [
      "/home/lidia/.pyenv/versions/3.7.4/envs/insurance/lib/python3.7/site-packages/ipykernel_launcher.py:1: FutureWarning: Indexing with multiple keys (implicitly converted to a tuple of keys) will be deprecated, use a list instead.\n",
      "  \"\"\"Entry point for launching an IPython kernel.\n"
     ]
    }
   ],
   "source": [
    "new.groupby(by=['employee_id','month'])['salary','working_hour'].median().to_csv('test_2.csv')"
   ]
  },
  {
   "cell_type": "markdown",
   "metadata": {},
   "source": [
    "<b>This table above show us not all employee work 9 hours a day</b>\n",
    "<p>To handle case of MISSING WORKING HOUR, I impute missing value employee with their median working hour"
   ]
  },
  {
   "cell_type": "code",
   "execution_count": 614,
   "metadata": {},
   "outputs": [
    {
     "data": {
      "text/plain": [
       "<AxesSubplot:xlabel='working_hour'>"
      ]
     },
     "execution_count": 614,
     "metadata": {},
     "output_type": "execute_result"
    },
    {
     "data": {
      "image/png": "[encoded data removed]",
      "text/plain": [
       "<Figure size 576x216 with 1 Axes>"
      ]
     },
     "metadata": {
      "needs_background": "light"
     },
     "output_type": "display_data"
    }
   ],
   "source": [
    "fig, ax = plt.subplots(figsize=(8,3))\n",
    "sns.boxplot(data=median_work_hour, x='working_hour', palette=\"Set2\")"
   ]
  },
  {
   "cell_type": "code",
   "execution_count": 618,
   "metadata": {},
   "outputs": [
    {
     "data": {
      "text/html": [
       "<div>\n",
       "<style scoped>\n",
       "    .dataframe tbody tr th:only-of-type {\n",
       "        vertical-align: middle;\n",
       "    }\n",
       "\n",
       "    .dataframe tbody tr th {\n",
       "        vertical-align: top;\n",
       "    }\n",
       "\n",
       "    .dataframe thead th {\n",
       "        text-align: right;\n",
       "    }\n",
       "</style>\n",
       "<table border=\"1\" class=\"dataframe\">\n",
       "  <thead>\n",
       "    <tr style=\"text-align: right;\">\n",
       "      <th></th>\n",
       "      <th>timesheet_id</th>\n",
       "      <th>employee_id</th>\n",
       "      <th>employe_id</th>\n",
       "      <th>branch_id</th>\n",
       "      <th>salary</th>\n",
       "      <th>year</th>\n",
       "      <th>month</th>\n",
       "      <th>checkin_hour</th>\n",
       "      <th>checkout_hour</th>\n",
       "      <th>working_hour</th>\n",
       "    </tr>\n",
       "  </thead>\n",
       "  <tbody>\n",
       "    <tr>\n",
       "      <th>count</th>\n",
       "      <td>3.971000e+04</td>\n",
       "      <td>39710.000000</td>\n",
       "      <td>39710.000000</td>\n",
       "      <td>39710.000000</td>\n",
       "      <td>3.971000e+04</td>\n",
       "      <td>39710.000000</td>\n",
       "      <td>39710.000000</td>\n",
       "      <td>38983.000000</td>\n",
       "      <td>38358.000000</td>\n",
       "      <td>37631.000000</td>\n",
       "    </tr>\n",
       "    <tr>\n",
       "      <th>mean</th>\n",
       "      <td>4.465104e+07</td>\n",
       "      <td>24379.521405</td>\n",
       "      <td>24379.521405</td>\n",
       "      <td>1778.788844</td>\n",
       "      <td>9.877071e+06</td>\n",
       "      <td>2019.791866</td>\n",
       "      <td>7.273256</td>\n",
       "      <td>9.566272</td>\n",
       "      <td>17.895120</td>\n",
       "      <td>8.316494</td>\n",
       "    </tr>\n",
       "    <tr>\n",
       "      <th>std</th>\n",
       "      <td>1.282201e+07</td>\n",
       "      <td>54304.798832</td>\n",
       "      <td>54304.798832</td>\n",
       "      <td>1643.098707</td>\n",
       "      <td>2.844396e+06</td>\n",
       "      <td>0.405978</td>\n",
       "      <td>3.482235</td>\n",
       "      <td>2.731764</td>\n",
       "      <td>2.954395</td>\n",
       "      <td>2.309500</td>\n",
       "    </tr>\n",
       "    <tr>\n",
       "      <th>min</th>\n",
       "      <td>2.390743e+07</td>\n",
       "      <td>1.000000</td>\n",
       "      <td>1.000000</td>\n",
       "      <td>1.000000</td>\n",
       "      <td>5.000000e+06</td>\n",
       "      <td>2019.000000</td>\n",
       "      <td>1.000000</td>\n",
       "      <td>0.000000</td>\n",
       "      <td>0.000000</td>\n",
       "      <td>-22.000000</td>\n",
       "    </tr>\n",
       "    <tr>\n",
       "      <th>25%</th>\n",
       "      <td>3.249397e+07</td>\n",
       "      <td>48.000000</td>\n",
       "      <td>48.000000</td>\n",
       "      <td>1.000000</td>\n",
       "      <td>7.500000e+06</td>\n",
       "      <td>2020.000000</td>\n",
       "      <td>4.000000</td>\n",
       "      <td>8.000000</td>\n",
       "      <td>17.000000</td>\n",
       "      <td>7.000000</td>\n",
       "    </tr>\n",
       "    <tr>\n",
       "      <th>50%</th>\n",
       "      <td>4.433762e+07</td>\n",
       "      <td>86.000000</td>\n",
       "      <td>86.000000</td>\n",
       "      <td>2623.000000</td>\n",
       "      <td>1.000000e+07</td>\n",
       "      <td>2020.000000</td>\n",
       "      <td>8.000000</td>\n",
       "      <td>9.000000</td>\n",
       "      <td>18.000000</td>\n",
       "      <td>9.000000</td>\n",
       "    </tr>\n",
       "    <tr>\n",
       "      <th>75%</th>\n",
       "      <td>5.603748e+07</td>\n",
       "      <td>19581.000000</td>\n",
       "      <td>19581.000000</td>\n",
       "      <td>2630.000000</td>\n",
       "      <td>1.250000e+07</td>\n",
       "      <td>2020.000000</td>\n",
       "      <td>10.000000</td>\n",
       "      <td>12.000000</td>\n",
       "      <td>20.000000</td>\n",
       "      <td>9.000000</td>\n",
       "    </tr>\n",
       "    <tr>\n",
       "      <th>max</th>\n",
       "      <td>7.068570e+07</td>\n",
       "      <td>340184.000000</td>\n",
       "      <td>340184.000000</td>\n",
       "      <td>12722.000000</td>\n",
       "      <td>1.450000e+07</td>\n",
       "      <td>2020.000000</td>\n",
       "      <td>12.000000</td>\n",
       "      <td>23.000000</td>\n",
       "      <td>23.000000</td>\n",
       "      <td>20.000000</td>\n",
       "    </tr>\n",
       "  </tbody>\n",
       "</table>\n",
       "</div>"
      ],
      "text/plain": [
       "       timesheet_id    employee_id     employe_id     branch_id        salary  \\\n",
       "count  3.971000e+04   39710.000000   39710.000000  39710.000000  3.971000e+04   \n",
       "mean   4.465104e+07   24379.521405   24379.521405   1778.788844  9.877071e+06   \n",
       "std    1.282201e+07   54304.798832   54304.798832   1643.098707  2.844396e+06   \n",
       "min    2.390743e+07       1.000000       1.000000      1.000000  5.000000e+06   \n",
       "25%    3.249397e+07      48.000000      48.000000      1.000000  7.500000e+06   \n",
       "50%    4.433762e+07      86.000000      86.000000   2623.000000  1.000000e+07   \n",
       "75%    5.603748e+07   19581.000000   19581.000000   2630.000000  1.250000e+07   \n",
       "max    7.068570e+07  340184.000000  340184.000000  12722.000000  1.450000e+07   \n",
       "\n",
       "               year         month  checkin_hour  checkout_hour  working_hour  \n",
       "count  39710.000000  39710.000000  38983.000000   38358.000000  37631.000000  \n",
       "mean    2019.791866      7.273256      9.566272      17.895120      8.316494  \n",
       "std        0.405978      3.482235      2.731764       2.954395      2.309500  \n",
       "min     2019.000000      1.000000      0.000000       0.000000    -22.000000  \n",
       "25%     2020.000000      4.000000      8.000000      17.000000      7.000000  \n",
       "50%     2020.000000      8.000000      9.000000      18.000000      9.000000  \n",
       "75%     2020.000000     10.000000     12.000000      20.000000      9.000000  \n",
       "max     2020.000000     12.000000     23.000000      23.000000     20.000000  "
      ]
     },
     "execution_count": 618,
     "metadata": {},
     "output_type": "execute_result"
    }
   ],
   "source": [
    "new.describe()"
   ]
  },
  {
   "cell_type": "markdown",
   "metadata": {},
   "source": [
    "### Missing Working Hour with Anomaly Employee"
   ]
  },
  {
   "cell_type": "markdown",
   "metadata": {},
   "source": [
    "<p>Since standard deviation = 2.3, we're gonna check employee who give anomaly working hour 9 hours +/- 2 hours"
   ]
  },
  {
   "cell_type": "markdown",
   "metadata": {},
   "source": [
    "#### Why this anomaly happen?"
   ]
  },
  {
   "cell_type": "code",
   "execution_count": 658,
   "metadata": {
    "scrolled": false
   },
   "outputs": [
    {
     "data": {
      "text/html": [
       "<div>\n",
       "<style scoped>\n",
       "    .dataframe tbody tr th:only-of-type {\n",
       "        vertical-align: middle;\n",
       "    }\n",
       "\n",
       "    .dataframe tbody tr th {\n",
       "        vertical-align: top;\n",
       "    }\n",
       "\n",
       "    .dataframe thead th {\n",
       "        text-align: right;\n",
       "    }\n",
       "</style>\n",
       "<table border=\"1\" class=\"dataframe\">\n",
       "  <thead>\n",
       "    <tr style=\"text-align: right;\">\n",
       "      <th></th>\n",
       "      <th>working_hour</th>\n",
       "    </tr>\n",
       "    <tr>\n",
       "      <th>employee_id</th>\n",
       "      <th></th>\n",
       "    </tr>\n",
       "  </thead>\n",
       "  <tbody>\n",
       "    <tr>\n",
       "      <th>41</th>\n",
       "      <td>-11.0</td>\n",
       "    </tr>\n",
       "    <tr>\n",
       "      <th>43</th>\n",
       "      <td>-10.0</td>\n",
       "    </tr>\n",
       "    <tr>\n",
       "      <th>21798</th>\n",
       "      <td>-11.0</td>\n",
       "    </tr>\n",
       "    <tr>\n",
       "      <th>49616</th>\n",
       "      <td>-11.0</td>\n",
       "    </tr>\n",
       "  </tbody>\n",
       "</table>\n",
       "</div>"
      ],
      "text/plain": [
       "             working_hour\n",
       "employee_id              \n",
       "41                  -11.0\n",
       "43                  -10.0\n",
       "21798               -11.0\n",
       "49616               -11.0"
      ]
     },
     "execution_count": 658,
     "metadata": {},
     "output_type": "execute_result"
    }
   ],
   "source": [
    "median_work_hour[(median_work_hour.working_hour < 7)][['working_hour']]"
   ]
  },
  {
   "cell_type": "markdown",
   "metadata": {},
   "source": [
    "##### Checkin Hour of anomaly employee"
   ]
  },
  {
   "cell_type": "code",
   "execution_count": 662,
   "metadata": {},
   "outputs": [],
   "source": [
    "anom = new[new.employe_id.isin(['41','43','21798','49616'])]"
   ]
  },
  {
   "cell_type": "code",
   "execution_count": 663,
   "metadata": {},
   "outputs": [
    {
     "data": {
      "text/plain": [
       "16.0    134\n",
       "17.0    112\n",
       "18.0      5\n",
       "15.0      4\n",
       "12.0      3\n",
       "13.0      2\n",
       "7.0       2\n",
       "20.0      1\n",
       "Name: checkin_hour, dtype: int64"
      ]
     },
     "execution_count": 663,
     "metadata": {},
     "output_type": "execute_result"
    }
   ],
   "source": [
    "anom[anom.working_hour < 0].checkin_hour.value_counts()"
   ]
  },
  {
   "cell_type": "code",
   "execution_count": 695,
   "metadata": {},
   "outputs": [
    {
     "data": {
      "text/plain": [
       "2623    791\n",
       "3092    571\n",
       "Name: branch_id, dtype: int64"
      ]
     },
     "execution_count": 695,
     "metadata": {},
     "output_type": "execute_result"
    }
   ],
   "source": [
    "new[new.employe_id.isin(['41','43','21798','49616'])].branch_id.value_counts()"
   ]
  },
  {
   "cell_type": "code",
   "execution_count": 702,
   "metadata": {},
   "outputs": [
    {
     "data": {
      "text/plain": [
       "branch_id\n",
       "2623    21\n",
       "3092    12\n",
       "Name: employee_id, dtype: int64"
      ]
     },
     "execution_count": 702,
     "metadata": {},
     "output_type": "execute_result"
    }
   ],
   "source": [
    "new[new.branch_id.isin(['2623','3092'])].groupby(by=['branch_id'])['employee_id'].nunique()"
   ]
  },
  {
   "cell_type": "markdown",
   "metadata": {},
   "source": [
    "##### These employee came from branch 2623 and 3092, but there is no indication of device error since only 4 of 33 employees that has these behavior."
   ]
  },
  {
   "cell_type": "markdown",
   "metadata": {},
   "source": [
    "#### Mostly the employee which has anomaly median working hours occured to night shift."
   ]
  },
  {
   "cell_type": "markdown",
   "metadata": {},
   "source": [
    "So, let's change working hour by add day +1 to checkout time"
   ]
  },
  {
   "cell_type": "code",
   "execution_count": 645,
   "metadata": {
    "scrolled": true
   },
   "outputs": [
    {
     "name": "stderr",
     "output_type": "stream",
     "text": [
      "/home/lidia/.pyenv/versions/3.7.4/envs/insurance/lib/python3.7/site-packages/ipykernel_launcher.py:5: SettingWithCopyWarning: \n",
      "A value is trying to be set on a copy of a slice from a DataFrame.\n",
      "Try using .loc[row_indexer,col_indexer] = value instead\n",
      "\n",
      "See the caveats in the documentation: https://pandas.pydata.org/pandas-docs/stable/user_guide/indexing.html#returning-a-view-versus-a-copy\n",
      "  \"\"\"\n"
     ]
    }
   ],
   "source": [
    "import numpy as np\n",
    "    \n",
    "anom['working_hour'] = np.where(anom.checkout_hour > anom.checkin_hour,\n",
    "                                round(pd.to_datetime(anom.checkout).sub(pd.to_datetime(anom.checkin)).dt.total_seconds().div(3600),0),\n",
    "                                round((pd.Timedelta(days=1) - anom.checkin).dt.total_seconds().div(3600)+(pd.Timedelta(days=0) + anom.checkout).dt.total_seconds().div(3600),0)\n",
    "                               )"
   ]
  },
  {
   "cell_type": "markdown",
   "metadata": {},
   "source": [
    "##### Number of missing working hour for anomaly employee"
   ]
  },
  {
   "cell_type": "code",
   "execution_count": 646,
   "metadata": {},
   "outputs": [
    {
     "data": {
      "text/plain": [
       "1029"
      ]
     },
     "execution_count": 646,
     "metadata": {},
     "output_type": "execute_result"
    }
   ],
   "source": [
    "anom.working_hour.isnull().sum()"
   ]
  },
  {
   "cell_type": "markdown",
   "metadata": {},
   "source": [
    "##### Median working hour"
   ]
  },
  {
   "cell_type": "code",
   "execution_count": 659,
   "metadata": {
    "scrolled": true
   },
   "outputs": [
    {
     "data": {
      "text/plain": [
       "13.0"
      ]
     },
     "execution_count": 659,
     "metadata": {},
     "output_type": "execute_result"
    }
   ],
   "source": [
    "anom.working_hour.median()"
   ]
  },
  {
   "cell_type": "markdown",
   "metadata": {},
   "source": [
    "##### Median working hour per employee"
   ]
  },
  {
   "cell_type": "code",
   "execution_count": 656,
   "metadata": {},
   "outputs": [
    {
     "data": {
      "text/html": [
       "<div>\n",
       "<style scoped>\n",
       "    .dataframe tbody tr th:only-of-type {\n",
       "        vertical-align: middle;\n",
       "    }\n",
       "\n",
       "    .dataframe tbody tr th {\n",
       "        vertical-align: top;\n",
       "    }\n",
       "\n",
       "    .dataframe thead th {\n",
       "        text-align: right;\n",
       "    }\n",
       "</style>\n",
       "<table border=\"1\" class=\"dataframe\">\n",
       "  <thead>\n",
       "    <tr style=\"text-align: right;\">\n",
       "      <th></th>\n",
       "      <th>working_hour</th>\n",
       "    </tr>\n",
       "    <tr>\n",
       "      <th>employee_id</th>\n",
       "      <th></th>\n",
       "    </tr>\n",
       "  </thead>\n",
       "  <tbody>\n",
       "    <tr>\n",
       "      <th>41</th>\n",
       "      <td>13.0</td>\n",
       "    </tr>\n",
       "    <tr>\n",
       "      <th>43</th>\n",
       "      <td>13.0</td>\n",
       "    </tr>\n",
       "    <tr>\n",
       "      <th>21798</th>\n",
       "      <td>13.0</td>\n",
       "    </tr>\n",
       "    <tr>\n",
       "      <th>49616</th>\n",
       "      <td>13.0</td>\n",
       "    </tr>\n",
       "  </tbody>\n",
       "</table>\n",
       "</div>"
      ],
      "text/plain": [
       "             working_hour\n",
       "employee_id              \n",
       "41                   13.0\n",
       "43                   13.0\n",
       "21798                13.0\n",
       "49616                13.0"
      ]
     },
     "execution_count": 656,
     "metadata": {},
     "output_type": "execute_result"
    }
   ],
   "source": [
    "anom.groupby(by='employee_id')[['working_hour']].median()"
   ]
  },
  {
   "cell_type": "code",
   "execution_count": 664,
   "metadata": {
    "scrolled": true
   },
   "outputs": [
    {
     "data": {
      "text/plain": [
       "6.0     39\n",
       "11.0    10\n",
       "12.0     7\n",
       "7.0      2\n",
       "5.0      2\n",
       "13.0     1\n",
       "Name: checkin_hour, dtype: int64"
      ]
     },
     "execution_count": 664,
     "metadata": {},
     "output_type": "execute_result"
    }
   ],
   "source": [
    "anom[anom.working_hour >0].checkin_hour.value_counts()"
   ]
  },
  {
   "cell_type": "markdown",
   "metadata": {},
   "source": [
    "### Error Working Hour For Normal Employee"
   ]
  },
  {
   "cell_type": "code",
   "execution_count": 667,
   "metadata": {
    "scrolled": false
   },
   "outputs": [],
   "source": [
    "normal_emp = new[~new.employe_id.isin(['41','43','21798','49616'])]"
   ]
  },
  {
   "cell_type": "code",
   "execution_count": 678,
   "metadata": {
    "scrolled": false
   },
   "outputs": [
    {
     "data": {
      "text/plain": [
       " 11.0    1154\n",
       " 12.0     558\n",
       " 13.0     314\n",
       " 14.0     226\n",
       " 15.0      89\n",
       "-3.0       62\n",
       " 16.0      37\n",
       " 0.0       13\n",
       "-2.0        9\n",
       "-5.0        9\n",
       " 17.0       9\n",
       "-4.0        6\n",
       "-16.0       4\n",
       "-7.0        4\n",
       "-12.0       4\n",
       "-6.0        3\n",
       "-11.0       3\n",
       " 19.0       2\n",
       "-22.0       2\n",
       "-9.0        2\n",
       "-15.0       2\n",
       " 20.0       1\n",
       "-8.0        1\n",
       "Name: working_hour, dtype: int64"
      ]
     },
     "execution_count": 678,
     "metadata": {},
     "output_type": "execute_result"
    }
   ],
   "source": [
    "normal_emp[(normal_emp.working_hour <= 0) | (normal_emp.working_hour > 10)].working_hour.value_counts()"
   ]
  },
  {
   "cell_type": "markdown",
   "metadata": {},
   "source": [
    "##### Cleaning Working Hour"
   ]
  },
  {
   "cell_type": "code",
   "execution_count": 671,
   "metadata": {},
   "outputs": [
    {
     "name": "stderr",
     "output_type": "stream",
     "text": [
      "/home/lidia/.pyenv/versions/3.7.4/envs/insurance/lib/python3.7/site-packages/ipykernel_launcher.py:5: SettingWithCopyWarning: \n",
      "A value is trying to be set on a copy of a slice from a DataFrame.\n",
      "Try using .loc[row_indexer,col_indexer] = value instead\n",
      "\n",
      "See the caveats in the documentation: https://pandas.pydata.org/pandas-docs/stable/user_guide/indexing.html#returning-a-view-versus-a-copy\n",
      "  \"\"\"\n"
     ]
    }
   ],
   "source": [
    "import numpy as np\n",
    "    \n",
    "normal_emp['working_test'] = np.where(normal_emp.checkout_hour > normal_emp.checkin_hour,\n",
    "                                round(pd.to_datetime(normal_emp.checkout).sub(pd.to_datetime(normal_emp.checkin)).dt.total_seconds().div(3600),0),\n",
    "                                round((pd.Timedelta(days=1) - normal_emp.checkin).dt.total_seconds().div(3600)+(pd.Timedelta(days=0) + normal_emp.checkout).dt.total_seconds().div(3600),0)\n",
    "                               )"
   ]
  },
  {
   "cell_type": "code",
   "execution_count": 677,
   "metadata": {},
   "outputs": [
    {
     "data": {
      "text/plain": [
       "21.0    62\n",
       "24.0    12\n",
       "19.0     9\n",
       "22.0     9\n",
       "20.0     6\n",
       "8.0      4\n",
       "12.0     4\n",
       "17.0     4\n",
       "13.0     3\n",
       "18.0     3\n",
       "9.0      2\n",
       "15.0     2\n",
       "2.0      2\n",
       "16.0     1\n",
       "0.0      1\n",
       "Name: working_test, dtype: int64"
      ]
     },
     "execution_count": 677,
     "metadata": {},
     "output_type": "execute_result"
    }
   ],
   "source": [
    "normal_emp[normal_emp.working_hour <= 0].working_test.value_counts()"
   ]
  },
  {
   "cell_type": "code",
   "execution_count": 680,
   "metadata": {},
   "outputs": [
    {
     "data": {
      "text/plain": [
       "11.0    48.284519\n",
       "12.0    23.347280\n",
       "13.0    13.138075\n",
       "14.0     9.456067\n",
       "15.0     3.723849\n",
       "16.0     1.548117\n",
       "17.0     0.376569\n",
       "19.0     0.083682\n",
       "20.0     0.041841\n",
       "Name: working_test, dtype: float64"
      ]
     },
     "execution_count": 680,
     "metadata": {},
     "output_type": "execute_result"
    }
   ],
   "source": [
    "normal_emp[normal_emp.working_hour > 10].working_test.value_counts(sorted) * 100"
   ]
  },
  {
   "cell_type": "markdown",
   "metadata": {},
   "source": [
    "##### Our working_hour standard deviation is 2 hours which is 11 hours...\n",
    "But due to government regulations that only allowed 4 hours, working hours > 14 will\n",
    "be categorized as anomaly, and will be generated to median."
   ]
  },
  {
   "cell_type": "markdown",
   "metadata": {},
   "source": [
    "#### Check Employee which work less than 7 hour "
   ]
  },
  {
   "cell_type": "code",
   "execution_count": 688,
   "metadata": {
    "scrolled": true
   },
   "outputs": [
    {
     "data": {
      "text/html": [
       "<div>\n",
       "<style scoped>\n",
       "    .dataframe tbody tr th:only-of-type {\n",
       "        vertical-align: middle;\n",
       "    }\n",
       "\n",
       "    .dataframe tbody tr th {\n",
       "        vertical-align: top;\n",
       "    }\n",
       "\n",
       "    .dataframe thead th {\n",
       "        text-align: right;\n",
       "    }\n",
       "</style>\n",
       "<table border=\"1\" class=\"dataframe\">\n",
       "  <thead>\n",
       "    <tr style=\"text-align: right;\">\n",
       "      <th></th>\n",
       "      <th></th>\n",
       "      <th>employee_id</th>\n",
       "    </tr>\n",
       "    <tr>\n",
       "      <th>checkin_hour</th>\n",
       "      <th>working_hour</th>\n",
       "      <th></th>\n",
       "    </tr>\n",
       "  </thead>\n",
       "  <tbody>\n",
       "    <tr>\n",
       "      <th>5.0</th>\n",
       "      <th>2.0</th>\n",
       "      <td>1</td>\n",
       "    </tr>\n",
       "    <tr>\n",
       "      <th rowspan=\"4\" valign=\"top\">6.0</th>\n",
       "      <th>0.0</th>\n",
       "      <td>2</td>\n",
       "    </tr>\n",
       "    <tr>\n",
       "      <th>1.0</th>\n",
       "      <td>1</td>\n",
       "    </tr>\n",
       "    <tr>\n",
       "      <th>2.0</th>\n",
       "      <td>1</td>\n",
       "    </tr>\n",
       "    <tr>\n",
       "      <th>6.0</th>\n",
       "      <td>25</td>\n",
       "    </tr>\n",
       "    <tr>\n",
       "      <th rowspan=\"4\" valign=\"top\">7.0</th>\n",
       "      <th>0.0</th>\n",
       "      <td>1</td>\n",
       "    </tr>\n",
       "    <tr>\n",
       "      <th>1.0</th>\n",
       "      <td>2</td>\n",
       "    </tr>\n",
       "    <tr>\n",
       "      <th>5.0</th>\n",
       "      <td>27</td>\n",
       "    </tr>\n",
       "    <tr>\n",
       "      <th>6.0</th>\n",
       "      <td>29</td>\n",
       "    </tr>\n",
       "    <tr>\n",
       "      <th rowspan=\"5\" valign=\"top\">8.0</th>\n",
       "      <th>0.0</th>\n",
       "      <td>1</td>\n",
       "    </tr>\n",
       "    <tr>\n",
       "      <th>2.0</th>\n",
       "      <td>1</td>\n",
       "    </tr>\n",
       "    <tr>\n",
       "      <th>4.0</th>\n",
       "      <td>2</td>\n",
       "    </tr>\n",
       "    <tr>\n",
       "      <th>5.0</th>\n",
       "      <td>108</td>\n",
       "    </tr>\n",
       "    <tr>\n",
       "      <th>6.0</th>\n",
       "      <td>20</td>\n",
       "    </tr>\n",
       "    <tr>\n",
       "      <th rowspan=\"6\" valign=\"top\">9.0</th>\n",
       "      <th>1.0</th>\n",
       "      <td>2</td>\n",
       "    </tr>\n",
       "    <tr>\n",
       "      <th>2.0</th>\n",
       "      <td>4</td>\n",
       "    </tr>\n",
       "    <tr>\n",
       "      <th>3.0</th>\n",
       "      <td>4</td>\n",
       "    </tr>\n",
       "    <tr>\n",
       "      <th>4.0</th>\n",
       "      <td>9</td>\n",
       "    </tr>\n",
       "    <tr>\n",
       "      <th>5.0</th>\n",
       "      <td>23</td>\n",
       "    </tr>\n",
       "    <tr>\n",
       "      <th>6.0</th>\n",
       "      <td>21</td>\n",
       "    </tr>\n",
       "    <tr>\n",
       "      <th rowspan=\"5\" valign=\"top\">10.0</th>\n",
       "      <th>2.0</th>\n",
       "      <td>3</td>\n",
       "    </tr>\n",
       "    <tr>\n",
       "      <th>3.0</th>\n",
       "      <td>6</td>\n",
       "    </tr>\n",
       "    <tr>\n",
       "      <th>4.0</th>\n",
       "      <td>3</td>\n",
       "    </tr>\n",
       "    <tr>\n",
       "      <th>5.0</th>\n",
       "      <td>23</td>\n",
       "    </tr>\n",
       "    <tr>\n",
       "      <th>6.0</th>\n",
       "      <td>10</td>\n",
       "    </tr>\n",
       "    <tr>\n",
       "      <th rowspan=\"5\" valign=\"top\">11.0</th>\n",
       "      <th>2.0</th>\n",
       "      <td>2</td>\n",
       "    </tr>\n",
       "    <tr>\n",
       "      <th>3.0</th>\n",
       "      <td>3</td>\n",
       "    </tr>\n",
       "    <tr>\n",
       "      <th>4.0</th>\n",
       "      <td>2</td>\n",
       "    </tr>\n",
       "    <tr>\n",
       "      <th>5.0</th>\n",
       "      <td>3</td>\n",
       "    </tr>\n",
       "    <tr>\n",
       "      <th>6.0</th>\n",
       "      <td>29</td>\n",
       "    </tr>\n",
       "    <tr>\n",
       "      <th rowspan=\"4\" valign=\"top\">12.0</th>\n",
       "      <th>2.0</th>\n",
       "      <td>2</td>\n",
       "    </tr>\n",
       "    <tr>\n",
       "      <th>3.0</th>\n",
       "      <td>2</td>\n",
       "    </tr>\n",
       "    <tr>\n",
       "      <th>5.0</th>\n",
       "      <td>19</td>\n",
       "    </tr>\n",
       "    <tr>\n",
       "      <th>6.0</th>\n",
       "      <td>32</td>\n",
       "    </tr>\n",
       "    <tr>\n",
       "      <th rowspan=\"6\" valign=\"top\">13.0</th>\n",
       "      <th>1.0</th>\n",
       "      <td>1</td>\n",
       "    </tr>\n",
       "    <tr>\n",
       "      <th>2.0</th>\n",
       "      <td>2</td>\n",
       "    </tr>\n",
       "    <tr>\n",
       "      <th>3.0</th>\n",
       "      <td>2</td>\n",
       "    </tr>\n",
       "    <tr>\n",
       "      <th>4.0</th>\n",
       "      <td>2</td>\n",
       "    </tr>\n",
       "    <tr>\n",
       "      <th>5.0</th>\n",
       "      <td>144</td>\n",
       "    </tr>\n",
       "    <tr>\n",
       "      <th>6.0</th>\n",
       "      <td>9</td>\n",
       "    </tr>\n",
       "    <tr>\n",
       "      <th rowspan=\"4\" valign=\"top\">14.0</th>\n",
       "      <th>3.0</th>\n",
       "      <td>2</td>\n",
       "    </tr>\n",
       "    <tr>\n",
       "      <th>4.0</th>\n",
       "      <td>2</td>\n",
       "    </tr>\n",
       "    <tr>\n",
       "      <th>5.0</th>\n",
       "      <td>2</td>\n",
       "    </tr>\n",
       "    <tr>\n",
       "      <th>6.0</th>\n",
       "      <td>25</td>\n",
       "    </tr>\n",
       "    <tr>\n",
       "      <th rowspan=\"6\" valign=\"top\">15.0</th>\n",
       "      <th>1.0</th>\n",
       "      <td>1</td>\n",
       "    </tr>\n",
       "    <tr>\n",
       "      <th>2.0</th>\n",
       "      <td>3</td>\n",
       "    </tr>\n",
       "    <tr>\n",
       "      <th>3.0</th>\n",
       "      <td>1</td>\n",
       "    </tr>\n",
       "    <tr>\n",
       "      <th>4.0</th>\n",
       "      <td>2</td>\n",
       "    </tr>\n",
       "    <tr>\n",
       "      <th>5.0</th>\n",
       "      <td>1</td>\n",
       "    </tr>\n",
       "    <tr>\n",
       "      <th>6.0</th>\n",
       "      <td>72</td>\n",
       "    </tr>\n",
       "    <tr>\n",
       "      <th rowspan=\"2\" valign=\"top\">16.0</th>\n",
       "      <th>5.0</th>\n",
       "      <td>5</td>\n",
       "    </tr>\n",
       "    <tr>\n",
       "      <th>6.0</th>\n",
       "      <td>10</td>\n",
       "    </tr>\n",
       "    <tr>\n",
       "      <th>17.0</th>\n",
       "      <th>4.0</th>\n",
       "      <td>3</td>\n",
       "    </tr>\n",
       "    <tr>\n",
       "      <th>18.0</th>\n",
       "      <th>4.0</th>\n",
       "      <td>1</td>\n",
       "    </tr>\n",
       "    <tr>\n",
       "      <th rowspan=\"3\" valign=\"top\">19.0</th>\n",
       "      <th>2.0</th>\n",
       "      <td>1</td>\n",
       "    </tr>\n",
       "    <tr>\n",
       "      <th>3.0</th>\n",
       "      <td>1</td>\n",
       "    </tr>\n",
       "    <tr>\n",
       "      <th>4.0</th>\n",
       "      <td>1</td>\n",
       "    </tr>\n",
       "    <tr>\n",
       "      <th>20.0</th>\n",
       "      <th>4.0</th>\n",
       "      <td>1</td>\n",
       "    </tr>\n",
       "    <tr>\n",
       "      <th>22.0</th>\n",
       "      <th>0.0</th>\n",
       "      <td>2</td>\n",
       "    </tr>\n",
       "  </tbody>\n",
       "</table>\n",
       "</div>"
      ],
      "text/plain": [
       "                           employee_id\n",
       "checkin_hour working_hour             \n",
       "5.0          2.0                     1\n",
       "6.0          0.0                     2\n",
       "             1.0                     1\n",
       "             2.0                     1\n",
       "             6.0                    25\n",
       "7.0          0.0                     1\n",
       "             1.0                     2\n",
       "             5.0                    27\n",
       "             6.0                    29\n",
       "8.0          0.0                     1\n",
       "             2.0                     1\n",
       "             4.0                     2\n",
       "             5.0                   108\n",
       "             6.0                    20\n",
       "9.0          1.0                     2\n",
       "             2.0                     4\n",
       "             3.0                     4\n",
       "             4.0                     9\n",
       "             5.0                    23\n",
       "             6.0                    21\n",
       "10.0         2.0                     3\n",
       "             3.0                     6\n",
       "             4.0                     3\n",
       "             5.0                    23\n",
       "             6.0                    10\n",
       "11.0         2.0                     2\n",
       "             3.0                     3\n",
       "             4.0                     2\n",
       "             5.0                     3\n",
       "             6.0                    29\n",
       "12.0         2.0                     2\n",
       "             3.0                     2\n",
       "             5.0                    19\n",
       "             6.0                    32\n",
       "13.0         1.0                     1\n",
       "             2.0                     2\n",
       "             3.0                     2\n",
       "             4.0                     2\n",
       "             5.0                   144\n",
       "             6.0                     9\n",
       "14.0         3.0                     2\n",
       "             4.0                     2\n",
       "             5.0                     2\n",
       "             6.0                    25\n",
       "15.0         1.0                     1\n",
       "             2.0                     3\n",
       "             3.0                     1\n",
       "             4.0                     2\n",
       "             5.0                     1\n",
       "             6.0                    72\n",
       "16.0         5.0                     5\n",
       "             6.0                    10\n",
       "17.0         4.0                     3\n",
       "18.0         4.0                     1\n",
       "19.0         2.0                     1\n",
       "             3.0                     1\n",
       "             4.0                     1\n",
       "20.0         4.0                     1\n",
       "22.0         0.0                     2"
      ]
     },
     "execution_count": 688,
     "metadata": {},
     "output_type": "execute_result"
    }
   ],
   "source": [
    "pd.DataFrame(\n",
    "    new[(new.working_hour < 7) & (new.checkin < new.checkout)].groupby(by=['checkin_hour','working_hour'])['employee_id'].count()\n",
    ")"
   ]
  },
  {
   "cell_type": "markdown",
   "metadata": {},
   "source": [
    "##### Mostly, employee that take less than 7 hour is employee that take half day working hour (5-6 hours)\n",
    "So, employee that has below half hour will be categorized as input error and automatically add as median hour"
   ]
  },
  {
   "cell_type": "code",
   "execution_count": 693,
   "metadata": {},
   "outputs": [
    {
     "data": {
      "text/plain": [
       "16.0    0.286017\n",
       "17.0    0.245763\n",
       "9.0     0.141949\n",
       "7.0     0.052966\n",
       "10.0    0.052966\n",
       "8.0     0.031780\n",
       "15.0    0.031780\n",
       "19.0    0.021186\n",
       "13.0    0.019068\n",
       "18.0    0.016949\n",
       "12.0    0.016949\n",
       "11.0    0.014831\n",
       "21.0    0.014831\n",
       "22.0    0.012712\n",
       "6.0     0.012712\n",
       "14.0    0.008475\n",
       "20.0    0.008475\n",
       "23.0    0.006356\n",
       "5.0     0.004237\n",
       "Name: checkin_hour, dtype: float64"
      ]
     },
     "execution_count": 693,
     "metadata": {},
     "output_type": "execute_result"
    }
   ],
   "source": [
    "new[(new.working_hour < 5)].checkin_hour.value_counts(sorted)"
   ]
  },
  {
   "cell_type": "code",
   "execution_count": null,
   "metadata": {},
   "outputs": [],
   "source": []
  }
 ],
 "metadata": {
  "kernelspec": {
   "display_name": "Python 3",
   "language": "python",
   "name": "python3"
  },
  "language_info": {
   "codemirror_mode": {
    "name": "ipython",
    "version": 3
   },
   "file_extension": ".py",
   "mimetype": "text/x-python",
   "name": "python",
   "nbconvert_exporter": "python",
   "pygments_lexer": "ipython3",
   "version": "3.7.4"
  }
 },
 "nbformat": 4,
 "nbformat_minor": 4
}
